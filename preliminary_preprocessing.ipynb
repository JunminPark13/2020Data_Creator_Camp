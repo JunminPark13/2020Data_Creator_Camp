{
 "cells": [
  {
   "cell_type": "markdown",
   "metadata": {
    "id": "VjkMDEh7gxdC"
   },
   "source": [
    "# NSMC : Naver Sentiment Movie Corpus (네이버 영화 리뷰 데이터)\n",
    "네이버에서 제공하는 200,000 개의 영화 리뷰 데이터\n",
    "- 긍정 리뷰 : 영화 평점 9점 이상\n",
    "- 부정 리뷰 : 영화 평점 4점 이하\n",
    "- 5-8점의 영화 리뷰들은 제외됨\n",
    "- 출처 : https://github.com/e9t/nsmc"
   ]
  },
  {
   "cell_type": "markdown",
   "metadata": {
    "id": "8_YCMFd4gxdC"
   },
   "source": [
    "# 모듈 불러오기"
   ]
  },
  {
   "cell_type": "code",
   "execution_count": 20,
   "metadata": {},
   "outputs": [],
   "source": [
    "import re"
   ]
  },
  {
   "cell_type": "code",
   "execution_count": 1,
   "metadata": {
    "id": "kscZEd5AgxdD"
   },
   "outputs": [],
   "source": [
    "import pandas as pd\n",
    "import matplotlib.pyplot as plt\n",
    "import seaborn as sns\n",
    "\n",
    "from konlpy.tag import Okt, Komoran, Kkma"
   ]
  },
  {
   "cell_type": "markdown",
   "metadata": {
    "id": "-SA9OkOkgxdE"
   },
   "source": [
    "# 데이터 불러오기"
   ]
  },
  {
   "cell_type": "code",
   "execution_count": 2,
   "metadata": {
    "id": "-6KgZy9VgxdF"
   },
   "outputs": [],
   "source": [
    "data = pd.read_csv('C:/Users/Junmin/Desktop/데크캠/병아리/data/ratings.txt', sep = \"\\t\") # 데이터 불러오기"
   ]
  },
  {
   "cell_type": "markdown",
   "metadata": {
    "id": "4htDSgqAgxdH"
   },
   "source": [
    "# 데이터 확인하기"
   ]
  },
  {
   "cell_type": "code",
   "execution_count": 9,
   "metadata": {
    "colab": {
     "base_uri": "https://localhost:8080/",
     "height": 359
    },
    "id": "MqaSreKUgxdH",
    "outputId": "68523d32-ec34-4078-b1d5-87fac41c985a"
   },
   "outputs": [
    {
     "data": {
      "text/html": [
       "<div>\n",
       "<style scoped>\n",
       "    .dataframe tbody tr th:only-of-type {\n",
       "        vertical-align: middle;\n",
       "    }\n",
       "\n",
       "    .dataframe tbody tr th {\n",
       "        vertical-align: top;\n",
       "    }\n",
       "\n",
       "    .dataframe thead th {\n",
       "        text-align: right;\n",
       "    }\n",
       "</style>\n",
       "<table border=\"1\" class=\"dataframe\">\n",
       "  <thead>\n",
       "    <tr style=\"text-align: right;\">\n",
       "      <th></th>\n",
       "      <th>id</th>\n",
       "      <th>document</th>\n",
       "      <th>label</th>\n",
       "    </tr>\n",
       "  </thead>\n",
       "  <tbody>\n",
       "    <tr>\n",
       "      <th>0</th>\n",
       "      <td>8112052</td>\n",
       "      <td>어릴때보고 지금다시봐도 재밌어요ㅋㅋ</td>\n",
       "      <td>1</td>\n",
       "    </tr>\n",
       "    <tr>\n",
       "      <th>1</th>\n",
       "      <td>8132799</td>\n",
       "      <td>디자인을 배우는 학생으로, 외국디자이너와 그들이 일군 전통을 통해 발전해가는 문화산...</td>\n",
       "      <td>1</td>\n",
       "    </tr>\n",
       "    <tr>\n",
       "      <th>2</th>\n",
       "      <td>4655635</td>\n",
       "      <td>폴리스스토리 시리즈는 1부터 뉴까지 버릴께 하나도 없음.. 최고.</td>\n",
       "      <td>1</td>\n",
       "    </tr>\n",
       "    <tr>\n",
       "      <th>3</th>\n",
       "      <td>9251303</td>\n",
       "      <td>와.. 연기가 진짜 개쩔구나.. 지루할거라고 생각했는데 몰입해서 봤다.. 그래 이런...</td>\n",
       "      <td>1</td>\n",
       "    </tr>\n",
       "    <tr>\n",
       "      <th>4</th>\n",
       "      <td>10067386</td>\n",
       "      <td>안개 자욱한 밤하늘에 떠 있는 초승달 같은 영화.</td>\n",
       "      <td>1</td>\n",
       "    </tr>\n",
       "    <tr>\n",
       "      <th>5</th>\n",
       "      <td>2190435</td>\n",
       "      <td>사랑을 해본사람이라면 처음부터 끝까지 웃을수 있는영화</td>\n",
       "      <td>1</td>\n",
       "    </tr>\n",
       "    <tr>\n",
       "      <th>6</th>\n",
       "      <td>9279041</td>\n",
       "      <td>완전 감동입니다 다시봐도 감동</td>\n",
       "      <td>1</td>\n",
       "    </tr>\n",
       "    <tr>\n",
       "      <th>7</th>\n",
       "      <td>7865729</td>\n",
       "      <td>개들의 전쟁2 나오나요? 나오면 1빠로 보고 싶음</td>\n",
       "      <td>1</td>\n",
       "    </tr>\n",
       "    <tr>\n",
       "      <th>8</th>\n",
       "      <td>7477618</td>\n",
       "      <td>굿</td>\n",
       "      <td>1</td>\n",
       "    </tr>\n",
       "    <tr>\n",
       "      <th>9</th>\n",
       "      <td>9250537</td>\n",
       "      <td>바보가 아니라 병 쉰 인듯</td>\n",
       "      <td>1</td>\n",
       "    </tr>\n",
       "  </tbody>\n",
       "</table>\n",
       "</div>"
      ],
      "text/plain": [
       "         id                                           document  label\n",
       "0   8112052                                어릴때보고 지금다시봐도 재밌어요ㅋㅋ      1\n",
       "1   8132799  디자인을 배우는 학생으로, 외국디자이너와 그들이 일군 전통을 통해 발전해가는 문화산...      1\n",
       "2   4655635               폴리스스토리 시리즈는 1부터 뉴까지 버릴께 하나도 없음.. 최고.      1\n",
       "3   9251303  와.. 연기가 진짜 개쩔구나.. 지루할거라고 생각했는데 몰입해서 봤다.. 그래 이런...      1\n",
       "4  10067386                        안개 자욱한 밤하늘에 떠 있는 초승달 같은 영화.      1\n",
       "5   2190435                      사랑을 해본사람이라면 처음부터 끝까지 웃을수 있는영화      1\n",
       "6   9279041                                   완전 감동입니다 다시봐도 감동      1\n",
       "7   7865729                        개들의 전쟁2 나오나요? 나오면 1빠로 보고 싶음      1\n",
       "8   7477618                                                  굿      1\n",
       "9   9250537                                     바보가 아니라 병 쉰 인듯      1"
      ]
     },
     "execution_count": 9,
     "metadata": {
      "tags": []
     },
     "output_type": "execute_result"
    }
   ],
   "source": [
    "data.head(10)\n",
    "# id : 네이버 영화 리뷰의 식별번호\n",
    "# document : 네이버 영화 리뷰 내용\n",
    "# label : 긍정, 부정 레이블 (긍정 : 1, 부정 : 0)"
   ]
  },
  {
   "cell_type": "code",
   "execution_count": 10,
   "metadata": {
    "colab": {
     "base_uri": "https://localhost:8080/"
    },
    "id": "ZJX7P3J0gxdJ",
    "outputId": "eeed5e92-2096-4bc6-c5a2-81ee660ce2ce",
    "scrolled": false
   },
   "outputs": [
    {
     "name": "stdout",
     "output_type": "stream",
     "text": [
      "(200000, 3)\n"
     ]
    }
   ],
   "source": [
    "print(data.shape) # 데이터 행과 열 개수 확인"
   ]
  },
  {
   "cell_type": "markdown",
   "metadata": {
    "id": "_XnvR-1TgxdL"
   },
   "source": [
    "# 결측값 확인 및 제거"
   ]
  },
  {
   "cell_type": "code",
   "execution_count": 3,
   "metadata": {
    "colab": {
     "base_uri": "https://localhost:8080/"
    },
    "id": "JOnqnqRRgxdM",
    "outputId": "21054f9c-b899-4782-dc02-c43e0a072a30",
    "scrolled": false
   },
   "outputs": [
    {
     "data": {
      "text/plain": [
       "id          0\n",
       "document    8\n",
       "label       0\n",
       "dtype: int64"
      ]
     },
     "execution_count": 3,
     "metadata": {},
     "output_type": "execute_result"
    }
   ],
   "source": [
    "data.isnull().sum() # 각 열별 결측치 데이터 개수 확인"
   ]
  },
  {
   "cell_type": "code",
   "execution_count": 4,
   "metadata": {
    "colab": {
     "base_uri": "https://localhost:8080/",
     "height": 297
    },
    "id": "lZ1KPw9jgxdN",
    "outputId": "c2ae373e-43c4-41d9-eefb-c46c13e0b6ba",
    "scrolled": true
   },
   "outputs": [
    {
     "data": {
      "text/html": [
       "<div>\n",
       "<style scoped>\n",
       "    .dataframe tbody tr th:only-of-type {\n",
       "        vertical-align: middle;\n",
       "    }\n",
       "\n",
       "    .dataframe tbody tr th {\n",
       "        vertical-align: top;\n",
       "    }\n",
       "\n",
       "    .dataframe thead th {\n",
       "        text-align: right;\n",
       "    }\n",
       "</style>\n",
       "<table border=\"1\" class=\"dataframe\">\n",
       "  <thead>\n",
       "    <tr style=\"text-align: right;\">\n",
       "      <th></th>\n",
       "      <th>id</th>\n",
       "      <th>document</th>\n",
       "      <th>label</th>\n",
       "    </tr>\n",
       "  </thead>\n",
       "  <tbody>\n",
       "    <tr>\n",
       "      <td>46471</td>\n",
       "      <td>6369843</td>\n",
       "      <td>NaN</td>\n",
       "      <td>1</td>\n",
       "    </tr>\n",
       "    <tr>\n",
       "      <td>60735</td>\n",
       "      <td>511097</td>\n",
       "      <td>NaN</td>\n",
       "      <td>1</td>\n",
       "    </tr>\n",
       "    <tr>\n",
       "      <td>77665</td>\n",
       "      <td>2172111</td>\n",
       "      <td>NaN</td>\n",
       "      <td>1</td>\n",
       "    </tr>\n",
       "    <tr>\n",
       "      <td>84098</td>\n",
       "      <td>402110</td>\n",
       "      <td>NaN</td>\n",
       "      <td>1</td>\n",
       "    </tr>\n",
       "    <tr>\n",
       "      <td>127017</td>\n",
       "      <td>5942978</td>\n",
       "      <td>NaN</td>\n",
       "      <td>0</td>\n",
       "    </tr>\n",
       "    <tr>\n",
       "      <td>172375</td>\n",
       "      <td>5026896</td>\n",
       "      <td>NaN</td>\n",
       "      <td>0</td>\n",
       "    </tr>\n",
       "    <tr>\n",
       "      <td>173526</td>\n",
       "      <td>1034280</td>\n",
       "      <td>NaN</td>\n",
       "      <td>0</td>\n",
       "    </tr>\n",
       "    <tr>\n",
       "      <td>197279</td>\n",
       "      <td>1034283</td>\n",
       "      <td>NaN</td>\n",
       "      <td>0</td>\n",
       "    </tr>\n",
       "  </tbody>\n",
       "</table>\n",
       "</div>"
      ],
      "text/plain": [
       "             id document  label\n",
       "46471   6369843      NaN      1\n",
       "60735    511097      NaN      1\n",
       "77665   2172111      NaN      1\n",
       "84098    402110      NaN      1\n",
       "127017  5942978      NaN      0\n",
       "172375  5026896      NaN      0\n",
       "173526  1034280      NaN      0\n",
       "197279  1034283      NaN      0"
      ]
     },
     "execution_count": 4,
     "metadata": {},
     "output_type": "execute_result"
    }
   ],
   "source": [
    "data[data['document'].isnull()] # 'document' 열의 결측치 데이터 확인"
   ]
  },
  {
   "cell_type": "code",
   "execution_count": 5,
   "metadata": {
    "colab": {
     "base_uri": "https://localhost:8080/"
    },
    "id": "6Q5K261MgxdP",
    "outputId": "d0242868-920a-492f-af96-46117450fcbf"
   },
   "outputs": [
    {
     "data": {
      "text/plain": [
       "id          0\n",
       "document    0\n",
       "label       0\n",
       "dtype: int64"
      ]
     },
     "execution_count": 5,
     "metadata": {},
     "output_type": "execute_result"
    }
   ],
   "source": [
    "notnull_data = data.dropna(axis = 0) # 결측치 열 제거\n",
    "notnull_data.isnull().sum() # 제거 된 결과 확인"
   ]
  },
  {
   "cell_type": "code",
   "execution_count": 14,
   "metadata": {
    "colab": {
     "base_uri": "https://localhost:8080/"
    },
    "id": "lczxlOjTgxdR",
    "outputId": "52188158-6e2a-48bf-d749-2565529118e3",
    "scrolled": true
   },
   "outputs": [
    {
     "name": "stdout",
     "output_type": "stream",
     "text": [
      "(199992, 3)\n"
     ]
    }
   ],
   "source": [
    "print(notnull_data.shape) # 결측치 열 제거 후 전체 데이터 행과 열 개수 확인 (8개 제거)"
   ]
  },
  {
   "cell_type": "markdown",
   "metadata": {
    "id": "gde8q3hHgxdS"
   },
   "source": [
    "# 중복값 확인 및 제거"
   ]
  },
  {
   "cell_type": "code",
   "execution_count": 6,
   "metadata": {
    "colab": {
     "base_uri": "https://localhost:8080/"
    },
    "id": "M2Mv7WXNgxdT",
    "outputId": "5c594f6e-1fcd-4cd9-be5e-c2d9f262d864"
   },
   "outputs": [
    {
     "data": {
      "text/plain": [
       "5449"
      ]
     },
     "execution_count": 6,
     "metadata": {},
     "output_type": "execute_result"
    }
   ],
   "source": [
    "notnull_data.duplicated(subset = ['document']).sum() # 'document' 열의 중복된 데이터 개수 확인"
   ]
  },
  {
   "cell_type": "code",
   "execution_count": 18,
   "metadata": {
    "colab": {
     "base_uri": "https://localhost:8080/",
     "height": 204
    },
    "id": "-QigjuPLgxdZ",
    "outputId": "c961ba6c-03c1-479e-825c-96d16ff9a5db",
    "scrolled": true
   },
   "outputs": [
    {
     "data": {
      "text/html": [
       "<div>\n",
       "<style scoped>\n",
       "    .dataframe tbody tr th:only-of-type {\n",
       "        vertical-align: middle;\n",
       "    }\n",
       "\n",
       "    .dataframe tbody tr th {\n",
       "        vertical-align: top;\n",
       "    }\n",
       "\n",
       "    .dataframe thead th {\n",
       "        text-align: right;\n",
       "    }\n",
       "</style>\n",
       "<table border=\"1\" class=\"dataframe\">\n",
       "  <thead>\n",
       "    <tr style=\"text-align: right;\">\n",
       "      <th></th>\n",
       "      <th>id</th>\n",
       "      <th>document</th>\n",
       "      <th>label</th>\n",
       "    </tr>\n",
       "  </thead>\n",
       "  <tbody>\n",
       "    <tr>\n",
       "      <th>102354</th>\n",
       "      <td>7345248</td>\n",
       "      <td>재미 더럽게없다..</td>\n",
       "      <td>0</td>\n",
       "    </tr>\n",
       "    <tr>\n",
       "      <th>179240</th>\n",
       "      <td>7125895</td>\n",
       "      <td>재미 더럽게없다..</td>\n",
       "      <td>0</td>\n",
       "    </tr>\n",
       "    <tr>\n",
       "      <th>196015</th>\n",
       "      <td>4609944</td>\n",
       "      <td>재미 더럽게없다..</td>\n",
       "      <td>0</td>\n",
       "    </tr>\n",
       "    <tr>\n",
       "      <th>199362</th>\n",
       "      <td>7427273</td>\n",
       "      <td>재미 더럽게없다..</td>\n",
       "      <td>0</td>\n",
       "    </tr>\n",
       "    <tr>\n",
       "      <th>199966</th>\n",
       "      <td>7405830</td>\n",
       "      <td>재미 더럽게없다..</td>\n",
       "      <td>0</td>\n",
       "    </tr>\n",
       "  </tbody>\n",
       "</table>\n",
       "</div>"
      ],
      "text/plain": [
       "             id    document  label\n",
       "102354  7345248  재미 더럽게없다..      0\n",
       "179240  7125895  재미 더럽게없다..      0\n",
       "196015  4609944  재미 더럽게없다..      0\n",
       "199362  7427273  재미 더럽게없다..      0\n",
       "199966  7405830  재미 더럽게없다..      0"
      ]
     },
     "execution_count": 18,
     "metadata": {
      "tags": []
     },
     "output_type": "execute_result"
    }
   ],
   "source": [
    "notnull_data[notnull_data[\"document\"].eq(\"재미 더럽게없다..\")] # \"재미 더럽게없다..\" 에 해당되는 'document' 데이터 확인"
   ]
  },
  {
   "cell_type": "code",
   "execution_count": 35,
   "metadata": {
    "colab": {
     "base_uri": "https://localhost:8080/"
    },
    "id": "SF9dLGGMgxda",
    "outputId": "1dac6f55-564a-4814-f4e4-755d8ea5facf"
   },
   "outputs": [
    {
     "data": {
      "text/plain": [
       "(194543, 3)"
      ]
     },
     "execution_count": 35,
     "metadata": {},
     "output_type": "execute_result"
    }
   ],
   "source": [
    "unique_df = notnull_data.drop_duplicates(subset = [\"document\"]) # 'document' 열이 중복된 데이터 제거\n",
    "unique_df.shape # 'document' 열이 중복된 데이터를 제거한 이후 데이터 행과 열 개수 확인 (5,449개 제거)\n",
    "# 199992 - 5449 = 194543"
   ]
  },
  {
   "cell_type": "code",
   "execution_count": 43,
   "metadata": {},
   "outputs": [
    {
     "data": {
      "text/html": [
       "<div>\n",
       "<style scoped>\n",
       "    .dataframe tbody tr th:only-of-type {\n",
       "        vertical-align: middle;\n",
       "    }\n",
       "\n",
       "    .dataframe tbody tr th {\n",
       "        vertical-align: top;\n",
       "    }\n",
       "\n",
       "    .dataframe thead th {\n",
       "        text-align: right;\n",
       "    }\n",
       "</style>\n",
       "<table border=\"1\" class=\"dataframe\">\n",
       "  <thead>\n",
       "    <tr style=\"text-align: right;\">\n",
       "      <th></th>\n",
       "      <th>id</th>\n",
       "      <th>document</th>\n",
       "      <th>label</th>\n",
       "      <th>preprocessed_document</th>\n",
       "    </tr>\n",
       "  </thead>\n",
       "  <tbody>\n",
       "    <tr>\n",
       "      <td>0</td>\n",
       "      <td>8112052</td>\n",
       "      <td>어릴때보고 지금다시봐도 재밌어요ㅋㅋ</td>\n",
       "      <td>1</td>\n",
       "      <td>어릴때보고 지금다시봐도 재밌어요ㅋㅋ</td>\n",
       "    </tr>\n",
       "    <tr>\n",
       "      <td>1</td>\n",
       "      <td>8132799</td>\n",
       "      <td>디자인을 배우는 학생으로, 외국디자이너와 그들이 일군 전통을 통해 발전해가는 문화산...</td>\n",
       "      <td>1</td>\n",
       "      <td>디자인을 배우는 학생으로 외국디자이너와 그들이 일군 전통을 통해 발전해가는 문화산업...</td>\n",
       "    </tr>\n",
       "    <tr>\n",
       "      <td>2</td>\n",
       "      <td>4655635</td>\n",
       "      <td>폴리스스토리 시리즈는 1부터 뉴까지 버릴께 하나도 없음.. 최고.</td>\n",
       "      <td>1</td>\n",
       "      <td>폴리스스토리 시리즈는 부터 뉴까지 버릴께 하나도 없음 최고</td>\n",
       "    </tr>\n",
       "    <tr>\n",
       "      <td>3</td>\n",
       "      <td>9251303</td>\n",
       "      <td>와.. 연기가 진짜 개쩔구나.. 지루할거라고 생각했는데 몰입해서 봤다.. 그래 이런...</td>\n",
       "      <td>1</td>\n",
       "      <td>와 연기가 진짜 개쩔구나 지루할거라고 생각했는데 몰입해서 봤다 그래 이런게 진짜 영화지</td>\n",
       "    </tr>\n",
       "    <tr>\n",
       "      <td>4</td>\n",
       "      <td>10067386</td>\n",
       "      <td>안개 자욱한 밤하늘에 떠 있는 초승달 같은 영화.</td>\n",
       "      <td>1</td>\n",
       "      <td>안개 자욱한 밤하늘에 떠 있는 초승달 같은 영화</td>\n",
       "    </tr>\n",
       "  </tbody>\n",
       "</table>\n",
       "</div>"
      ],
      "text/plain": [
       "         id                                           document  label  \\\n",
       "0   8112052                                어릴때보고 지금다시봐도 재밌어요ㅋㅋ      1   \n",
       "1   8132799  디자인을 배우는 학생으로, 외국디자이너와 그들이 일군 전통을 통해 발전해가는 문화산...      1   \n",
       "2   4655635               폴리스스토리 시리즈는 1부터 뉴까지 버릴께 하나도 없음.. 최고.      1   \n",
       "3   9251303  와.. 연기가 진짜 개쩔구나.. 지루할거라고 생각했는데 몰입해서 봤다.. 그래 이런...      1   \n",
       "4  10067386                        안개 자욱한 밤하늘에 떠 있는 초승달 같은 영화.      1   \n",
       "\n",
       "                               preprocessed_document  \n",
       "0                                어릴때보고 지금다시봐도 재밌어요ㅋㅋ  \n",
       "1  디자인을 배우는 학생으로 외국디자이너와 그들이 일군 전통을 통해 발전해가는 문화산업...  \n",
       "2                   폴리스스토리 시리즈는 부터 뉴까지 버릴께 하나도 없음 최고  \n",
       "3   와 연기가 진짜 개쩔구나 지루할거라고 생각했는데 몰입해서 봤다 그래 이런게 진짜 영화지  \n",
       "4                         안개 자욱한 밤하늘에 떠 있는 초승달 같은 영화  "
      ]
     },
     "execution_count": 43,
     "metadata": {},
     "output_type": "execute_result"
    }
   ],
   "source": [
    "hangul = re.compile('[^ ㄱ-ㅣ가-힣]+') # 한글, 띄어쓰기만 포함하는 정규식\n",
    "\n",
    "a = []\n",
    "for i in range(len(unique_df1)):\n",
    "    a.append(hangul.sub('', unique_df1[\"document\"][i]))\n",
    "\n",
    "unique_df1[\"preprocessed_document\"] = a\n",
    "unique_df1.head()"
   ]
  },
  {
   "cell_type": "markdown",
   "metadata": {
    "id": "eoAlgGT6gxde"
   },
   "source": [
    "# 영화 리뷰 데이터에 대해 문장 길이를 계산하고 시각화를 통해 데이터를 탐색"
   ]
  },
  {
   "cell_type": "code",
   "execution_count": 45,
   "metadata": {},
   "outputs": [],
   "source": [
    "unique_df1[\"document_len\"] = unique_df[\"preprocessed_document\"].apply(lambda x: len(x)) # 'preprocessed_document' 리뷰들의 문장 길이를 계산하여 'document_len' 열로 저장"
   ]
  },
  {
   "cell_type": "code",
   "execution_count": 10,
   "metadata": {
    "colab": {
     "base_uri": "https://localhost:8080/"
    },
    "id": "cNxUf6YAgxde",
    "outputId": "feb71703-a12d-4997-d48e-afe4e66901cf",
    "scrolled": true
   },
   "outputs": [
    {
     "name": "stderr",
     "output_type": "stream",
     "text": [
      "C:\\Users\\Junmin\\Anaconda3\\lib\\site-packages\\ipykernel_launcher.py:1: SettingWithCopyWarning: \n",
      "A value is trying to be set on a copy of a slice from a DataFrame.\n",
      "Try using .loc[row_indexer,col_indexer] = value instead\n",
      "\n",
      "See the caveats in the documentation: http://pandas.pydata.org/pandas-docs/stable/user_guide/indexing.html#returning-a-view-versus-a-copy\n",
      "  \"\"\"Entry point for launching an IPython kernel.\n"
     ]
    }
   ],
   "source": [
    "unique_df[\"document_len\"] = unique_df[\"preprocessed_document\"].apply(lambda x: len(x)) # 'preprocessed_document' 리뷰들의 문장 길이를 계산하여 'document_len' 열로 저장"
   ]
  },
  {
   "cell_type": "code",
   "execution_count": 16,
   "metadata": {
    "colab": {
     "base_uri": "https://localhost:8080/",
     "height": 482
    },
    "id": "wyJRldbogxdg",
    "outputId": "17ec2e15-9878-43e2-8dd8-6918bc161dc9"
   },
   "outputs": [
    {
     "data": {
      "text/plain": [
       "Text(0.5, 1.0, 'The Distribution of Length over the Movie Reviews')"
      ]
     },
     "execution_count": 16,
     "metadata": {},
     "output_type": "execute_result"
    },
    {
     "data": {
      "image/png": "[encoded data removed]",
      "text/plain": [
       "<Figure size 1080x504 with 1 Axes>"
      ]
     },
     "metadata": {
      "needs_background": "light"
     },
     "output_type": "display_data"
    }
   ],
   "source": [
    "plt.rcParams[\"figure.figsize\"] = (15, 7) # 그래프 크기 지정\n",
    "sns.distplot(unique_df[\"document_len\"], color = \"green\") # 단일 변량 분포 그래프\n",
    "plt.title(\"The Distribution of Length over the Movie Reviews\", fontsize = 20) # 그래프 제목, 글자 크기는 20 지정"
   ]
  },
  {
   "cell_type": "code",
   "execution_count": 23,
   "metadata": {
    "colab": {
     "base_uri": "https://localhost:8080/",
     "height": 517
    },
    "id": "pdCvMoDugxdh",
    "outputId": "13cdde60-e02d-41f8-ee2e-e36fbea969b6",
    "scrolled": false
   },
   "outputs": [
    {
     "name": "stderr",
     "output_type": "stream",
     "text": [
      "/usr/local/lib/python3.6/dist-packages/seaborn/_decorators.py:43: FutureWarning: Pass the following variable as a keyword arg: x. From version 0.12, the only valid positional argument will be `data`, and passing other arguments without an explicit keyword will result in an error or misinterpretation.\n",
      "  FutureWarning\n"
     ]
    },
    {
     "data": {
      "text/plain": [
       "<matplotlib.axes._subplots.AxesSubplot at 0x7f7bb2900d68>"
      ]
     },
     "execution_count": 23,
     "metadata": {
      "tags": []
     },
     "output_type": "execute_result"
    },
    {
     "data": {
      "image/png": "[encoded data removed]",
      "text/plain": [
       "<Figure size 1080x504 with 1 Axes>"
      ]
     },
     "metadata": {
      "needs_background": "light",
      "tags": []
     },
     "output_type": "display_data"
    }
   ],
   "source": [
    "sns.boxplot(unique_df[\"document_len\"]) # 'document_len' 데이터 상자 그림 그리기"
   ]
  },
  {
   "cell_type": "code",
   "execution_count": 24,
   "metadata": {
    "colab": {
     "base_uri": "https://localhost:8080/"
    },
    "id": "N__Oi2yUgxdj",
    "outputId": "616ef75f-3c01-4588-909c-d72aad36d2c1",
    "scrolled": true
   },
   "outputs": [
    {
     "data": {
      "text/plain": [
       "count    194543.000000\n",
       "mean         26.246557\n",
       "std          21.895254\n",
       "min           0.000000\n",
       "25%          12.000000\n",
       "50%          20.000000\n",
       "75%          31.000000\n",
       "max         140.000000\n",
       "Name: document_len, dtype: float64"
      ]
     },
     "execution_count": 24,
     "metadata": {
      "tags": []
     },
     "output_type": "execute_result"
    }
   ],
   "source": [
    "unique_df[\"document_len\"].describe() # 'document_len' 열의 통계량 확인 (1분위수, 3분위수)"
   ]
  },
  {
   "cell_type": "code",
   "execution_count": 58,
   "metadata": {
    "colab": {
     "base_uri": "https://localhost:8080/"
    },
    "id": "f-oN281jgxdk",
    "outputId": "95389e56-4c83-411e-c057-3983a63e52bc"
   },
   "outputs": [
    {
     "data": {
      "text/plain": [
       "(53490, 5)"
      ]
     },
     "execution_count": 58,
     "metadata": {},
     "output_type": "execute_result"
    }
   ],
   "source": [
    "subset_df = unique_df1[unique_df1[\"document_len\"] >= 10] # 'document_len' 값이 10 이상인 데이터만 추출 \n",
    "subset_df = subset_df[subset_df[\"document_len\"] <= 17] # 'document_len' 값이 17 이하인 데이터만 추출\n",
    "subset_df.shape "
   ]
  },
  {
   "cell_type": "markdown",
   "metadata": {
    "id": "qhMlWk0hgxdm"
   },
   "source": [
    "# 한국어 형태소 분석기 적용하기\n",
    "- 문장 및 단락들을 형태소, 품사 태깅, 문장 분리 등으로 다양하게 처리해주는 한국어 형태소 분석기 Konlpy\n",
    "- 출처 : https://konlpy-ko.readthedocs.io/ko/v0.4.3/"
   ]
  },
  {
   "cell_type": "code",
   "execution_count": 18,
   "metadata": {
    "id": "GUjovGYYgxdm"
   },
   "outputs": [],
   "source": [
    "okt = Okt() # 트위터에서 만든 오픈소스 한국어 형태소 분석기"
   ]
  },
  {
   "cell_type": "code",
   "execution_count": 48,
   "metadata": {
    "colab": {
     "base_uri": "https://localhost:8080/"
    },
    "id": "zCVHbBYogxdo",
    "outputId": "b6e5f059-e617-44a9-9b5e-592b4a898548",
    "scrolled": true
   },
   "outputs": [
    {
     "data": {
      "text/plain": [
       "0       [어릴, 때, 보고, 지금, 다시, 봐도, 재밌어요, ㅋㅋ]\n",
       "6               [완전, 감동, 입니다, 다시, 봐도, 감동]\n",
       "9                  [바보, 가, 아니라, 병, 쉰, 인듯]\n",
       "12                [고질, 라니, 무, 귀엽다, 능, ㅋㅋ]\n",
       "18    [가면, 갈수록, 더욱, 빠져, 드, 네, 요, 밀회, 화이팅]\n",
       "20         [오랜, 만, 에, 본, 제대로, 된, 범죄, 스릴러]\n",
       "22                  [마지막, 씬, 을, 잊을수가, 없다]\n",
       "23      [강압, 적, 용서, 세뇌, 적, 용서, 에, 대한, 비판]\n",
       "24            [중세시대, 명작, 굿, 평점, 이, 왜, 이래]\n",
       "31             [농아인, 문화, 에, 대한, 알아야, 합니다]\n",
       "Name: preprocessed_document, dtype: object"
      ]
     },
     "execution_count": 48,
     "metadata": {},
     "output_type": "execute_result"
    }
   ],
   "source": [
    "okt_res = subset_df[\"preprocessed_document\"][:10].apply(lambda x: okt.morphs(x)) # 10개 영화 리뷰에 대해 트위터 형태소 분석기를 적용\n",
    "okt_res # 결과 확인"
   ]
  },
  {
   "cell_type": "code",
   "execution_count": 59,
   "metadata": {},
   "outputs": [
    {
     "data": {
      "text/html": [
       "<div>\n",
       "<style scoped>\n",
       "    .dataframe tbody tr th:only-of-type {\n",
       "        vertical-align: middle;\n",
       "    }\n",
       "\n",
       "    .dataframe tbody tr th {\n",
       "        vertical-align: top;\n",
       "    }\n",
       "\n",
       "    .dataframe thead th {\n",
       "        text-align: right;\n",
       "    }\n",
       "</style>\n",
       "<table border=\"1\" class=\"dataframe\">\n",
       "  <thead>\n",
       "    <tr style=\"text-align: right;\">\n",
       "      <th></th>\n",
       "      <th>id</th>\n",
       "      <th>document</th>\n",
       "      <th>label</th>\n",
       "      <th>preprocessed_document</th>\n",
       "      <th>document_len</th>\n",
       "    </tr>\n",
       "  </thead>\n",
       "  <tbody>\n",
       "    <tr>\n",
       "      <td>0</td>\n",
       "      <td>8112052</td>\n",
       "      <td>어릴때보고 지금다시봐도 재밌어요ㅋㅋ</td>\n",
       "      <td>1</td>\n",
       "      <td>어릴때보고 지금다시봐도 재밌어요ㅋㅋ</td>\n",
       "      <td>17.0</td>\n",
       "    </tr>\n",
       "    <tr>\n",
       "      <td>1</td>\n",
       "      <td>9279041</td>\n",
       "      <td>완전 감동입니다 다시봐도 감동</td>\n",
       "      <td>1</td>\n",
       "      <td>완전 감동입니다 다시봐도 감동</td>\n",
       "      <td>13.0</td>\n",
       "    </tr>\n",
       "    <tr>\n",
       "      <td>2</td>\n",
       "      <td>9250537</td>\n",
       "      <td>바보가 아니라 병 쉰 인듯</td>\n",
       "      <td>1</td>\n",
       "      <td>바보가 아니라 병 쉰 인듯</td>\n",
       "      <td>10.0</td>\n",
       "    </tr>\n",
       "    <tr>\n",
       "      <td>3</td>\n",
       "      <td>9537008</td>\n",
       "      <td>고질라니무 귀엽다능ㅋㅋ</td>\n",
       "      <td>1</td>\n",
       "      <td>고질라니무 귀엽다능ㅋㅋ</td>\n",
       "      <td>11.0</td>\n",
       "    </tr>\n",
       "    <tr>\n",
       "      <td>4</td>\n",
       "      <td>8703997</td>\n",
       "      <td>가면 갈수록 더욱 빠져드네요 밀회 화이팅!!</td>\n",
       "      <td>1</td>\n",
       "      <td>가면 갈수록 더욱 빠져드네요 밀회 화이팅</td>\n",
       "      <td>17.0</td>\n",
       "    </tr>\n",
       "  </tbody>\n",
       "</table>\n",
       "</div>"
      ],
      "text/plain": [
       "        id                  document  label   preprocessed_document  \\\n",
       "0  8112052       어릴때보고 지금다시봐도 재밌어요ㅋㅋ      1     어릴때보고 지금다시봐도 재밌어요ㅋㅋ   \n",
       "1  9279041          완전 감동입니다 다시봐도 감동      1        완전 감동입니다 다시봐도 감동   \n",
       "2  9250537            바보가 아니라 병 쉰 인듯      1          바보가 아니라 병 쉰 인듯   \n",
       "3  9537008              고질라니무 귀엽다능ㅋㅋ      1            고질라니무 귀엽다능ㅋㅋ   \n",
       "4  8703997  가면 갈수록 더욱 빠져드네요 밀회 화이팅!!      1  가면 갈수록 더욱 빠져드네요 밀회 화이팅   \n",
       "\n",
       "   document_len  \n",
       "0          17.0  \n",
       "1          13.0  \n",
       "2          10.0  \n",
       "3          11.0  \n",
       "4          17.0  "
      ]
     },
     "execution_count": 59,
     "metadata": {},
     "output_type": "execute_result"
    }
   ],
   "source": [
    "subset_df.index = range(len(subset_df))\n",
    "subset_df.head()"
   ]
  },
  {
   "cell_type": "code",
   "execution_count": 60,
   "metadata": {
    "scrolled": true
   },
   "outputs": [
    {
     "name": "stderr",
     "output_type": "stream",
     "text": [
      "C:\\Users\\Junmin\\Anaconda3\\lib\\site-packages\\ipykernel_launcher.py:7: SettingWithCopyWarning: \n",
      "A value is trying to be set on a copy of a slice from a DataFrame\n",
      "\n",
      "See the caveats in the documentation: http://pandas.pydata.org/pandas-docs/stable/user_guide/indexing.html#returning-a-view-versus-a-copy\n",
      "  import sys\n"
     ]
    }
   ],
   "source": [
    "# 동사, 명사, 형용사, 부사만 추출\n",
    "subset_df['v_n_ad'] = ''\n",
    "for i in range(len(subset_df)):\n",
    "    clean_words = []\n",
    "    for word in okt.pos(subset_df[\"preprocessed_document\"][i],stem=True):\n",
    "        if word[1] in ['Noun', 'Verb', 'Adjective','Adverb','KoreanParticle']:\n",
    "            clean_words.append(word[0])\n",
    "    subset_df['v_n_ad'][i] = clean_words"
   ]
  },
  {
   "cell_type": "code",
   "execution_count": 61,
   "metadata": {
    "scrolled": true
   },
   "outputs": [
    {
     "data": {
      "text/html": [
       "<div>\n",
       "<style scoped>\n",
       "    .dataframe tbody tr th:only-of-type {\n",
       "        vertical-align: middle;\n",
       "    }\n",
       "\n",
       "    .dataframe tbody tr th {\n",
       "        vertical-align: top;\n",
       "    }\n",
       "\n",
       "    .dataframe thead th {\n",
       "        text-align: right;\n",
       "    }\n",
       "</style>\n",
       "<table border=\"1\" class=\"dataframe\">\n",
       "  <thead>\n",
       "    <tr style=\"text-align: right;\">\n",
       "      <th></th>\n",
       "      <th>id</th>\n",
       "      <th>document</th>\n",
       "      <th>label</th>\n",
       "      <th>preprocessed_document</th>\n",
       "      <th>document_len</th>\n",
       "      <th>v_n_ad</th>\n",
       "    </tr>\n",
       "  </thead>\n",
       "  <tbody>\n",
       "    <tr>\n",
       "      <td>0</td>\n",
       "      <td>8112052</td>\n",
       "      <td>어릴때보고 지금다시봐도 재밌어요ㅋㅋ</td>\n",
       "      <td>1</td>\n",
       "      <td>어릴때보고 지금다시봐도 재밌어요ㅋㅋ</td>\n",
       "      <td>17.0</td>\n",
       "      <td>[어리다, 때, 보고, 지금, 다시, 보다, 재밌다, ㅋㅋ]</td>\n",
       "    </tr>\n",
       "    <tr>\n",
       "      <td>1</td>\n",
       "      <td>9279041</td>\n",
       "      <td>완전 감동입니다 다시봐도 감동</td>\n",
       "      <td>1</td>\n",
       "      <td>완전 감동입니다 다시봐도 감동</td>\n",
       "      <td>13.0</td>\n",
       "      <td>[완전, 감동, 이다, 다시, 보다, 감동]</td>\n",
       "    </tr>\n",
       "    <tr>\n",
       "      <td>2</td>\n",
       "      <td>9250537</td>\n",
       "      <td>바보가 아니라 병 쉰 인듯</td>\n",
       "      <td>1</td>\n",
       "      <td>바보가 아니라 병 쉰 인듯</td>\n",
       "      <td>10.0</td>\n",
       "      <td>[바보, 아니다, 병, 쉰, 이다]</td>\n",
       "    </tr>\n",
       "    <tr>\n",
       "      <td>3</td>\n",
       "      <td>9537008</td>\n",
       "      <td>고질라니무 귀엽다능ㅋㅋ</td>\n",
       "      <td>1</td>\n",
       "      <td>고질라니무 귀엽다능ㅋㅋ</td>\n",
       "      <td>11.0</td>\n",
       "      <td>[고질, 무, 귀엽다, 능, ㅋㅋ]</td>\n",
       "    </tr>\n",
       "    <tr>\n",
       "      <td>4</td>\n",
       "      <td>8703997</td>\n",
       "      <td>가면 갈수록 더욱 빠져드네요 밀회 화이팅!!</td>\n",
       "      <td>1</td>\n",
       "      <td>가면 갈수록 더욱 빠져드네요 밀회 화이팅</td>\n",
       "      <td>17.0</td>\n",
       "      <td>[가면, 갈수록, 더욱, 빠지다, 드, 밀회, 화이팅]</td>\n",
       "    </tr>\n",
       "  </tbody>\n",
       "</table>\n",
       "</div>"
      ],
      "text/plain": [
       "        id                  document  label   preprocessed_document  \\\n",
       "0  8112052       어릴때보고 지금다시봐도 재밌어요ㅋㅋ      1     어릴때보고 지금다시봐도 재밌어요ㅋㅋ   \n",
       "1  9279041          완전 감동입니다 다시봐도 감동      1        완전 감동입니다 다시봐도 감동   \n",
       "2  9250537            바보가 아니라 병 쉰 인듯      1          바보가 아니라 병 쉰 인듯   \n",
       "3  9537008              고질라니무 귀엽다능ㅋㅋ      1            고질라니무 귀엽다능ㅋㅋ   \n",
       "4  8703997  가면 갈수록 더욱 빠져드네요 밀회 화이팅!!      1  가면 갈수록 더욱 빠져드네요 밀회 화이팅   \n",
       "\n",
       "   document_len                             v_n_ad  \n",
       "0          17.0  [어리다, 때, 보고, 지금, 다시, 보다, 재밌다, ㅋㅋ]  \n",
       "1          13.0           [완전, 감동, 이다, 다시, 보다, 감동]  \n",
       "2          10.0                [바보, 아니다, 병, 쉰, 이다]  \n",
       "3          11.0                [고질, 무, 귀엽다, 능, ㅋㅋ]  \n",
       "4          17.0     [가면, 갈수록, 더욱, 빠지다, 드, 밀회, 화이팅]  "
      ]
     },
     "execution_count": 61,
     "metadata": {},
     "output_type": "execute_result"
    }
   ],
   "source": [
    "subset_df.head()"
   ]
  },
  {
   "cell_type": "code",
   "execution_count": 65,
   "metadata": {},
   "outputs": [],
   "source": [
    "subset_df.to_csv('1차.csv', encoding='utf-8', index=False)"
   ]
  },
  {
   "cell_type": "code",
   "execution_count": 66,
   "metadata": {},
   "outputs": [],
   "source": [
    "# stopwords 설정\n",
    "stopword = ['중세시대', '다년', '롤라', '거더', '델과킴', '일리', '와대', 'MBC', '더빨', '크슈', '핡', '도난', '리좀', '말타', '카스', '코스',\n",
    "            '야할랑',  '랑', '마테', '가희', '넝', '삼겹살', '게왜점', '조도', '로프', '스리', '넥션', '와쿠', '김영', '갠', '이아쉬', '프란', '일월', '월일',\n",
    "            '내릴', '스내치', '년됫', '년됐', '헤드', '게토', '개토', '때', '이다', '보다', '아니다', '능', '무', '드', '알다', '하다', '어디서', '잇다', '알', '게', '내', 'ㄸㅗ,' 'ㅇ,' 'ㅣㅇ,' '요', '수가', '너리', '그', '따다', '재다', '간', '들다'] "
   ]
  },
  {
   "cell_type": "code",
   "execution_count": 67,
   "metadata": {
    "scrolled": true
   },
   "outputs": [
    {
     "name": "stdout",
     "output_type": "stream",
     "text": [
      "<class 'pandas.core.frame.DataFrame'>\n",
      "RangeIndex: 53490 entries, 0 to 53489\n",
      "Data columns (total 6 columns):\n",
      "id                       53490 non-null int64\n",
      "document                 53490 non-null object\n",
      "label                    53490 non-null int64\n",
      "preprocessed_document    53490 non-null object\n",
      "document_len             53490 non-null float64\n",
      "v_n_ad                   53490 non-null object\n",
      "dtypes: float64(1), int64(2), object(3)\n",
      "memory usage: 2.4+ MB\n"
     ]
    }
   ],
   "source": [
    "subset_df.info()"
   ]
  },
  {
   "cell_type": "code",
   "execution_count": 78,
   "metadata": {},
   "outputs": [
    {
     "name": "stdout",
     "output_type": "stream",
     "text": [
      "[380, 421, 466, 509, 542, 587, 708, 744, 897, 970, 1186, 1411, 1427, 1722, 1891, 2016, 2146, 2152, 2276, 2348, 2730, 2842, 2934, 3077, 3119, 3524, 3547, 3742, 3838, 3895, 3901, 4101, 4176, 4294, 4316, 4325, 4822, 4920, 5051, 5690, 5715, 5881, 5902, 5946, 5972, 5995, 6038, 6165, 6656, 6668, 7113, 7416, 7591, 7630, 7661, 7750, 7880, 7881, 7909, 8339, 8541, 8672, 9338, 9372, 9419, 9442, 9592, 10032, 10047, 10403, 10574, 10634, 10996, 11133, 11173, 11286, 11397, 11534, 11558, 11994, 12121, 12125, 12618, 12701, 12771, 13180, 13255, 13280, 13299, 13319, 13360, 13519, 13691, 13804, 13861, 14324, 14470, 14576, 14811, 14869, 14905, 14908, 15274, 15347, 15588, 15686, 15707, 15911, 16068, 16231, 16357, 16361, 16444, 16511, 16614, 16641, 16821, 16909, 17012, 17033, 17188, 17559, 17660, 18130, 18252, 18256, 18484, 18648, 18721, 18923, 19101, 19568, 19620, 19633, 19992, 20879, 20973, 21075, 21076, 21104, 21235, 21288, 21405, 21466, 21650, 21853, 22003, 22489, 22679, 22717, 22718, 22856, 22946, 23088, 23108, 23236, 23331, 23337, 23359, 23591, 23630, 23672, 23848, 23913, 24024, 24331, 24382, 24425, 24511, 24840, 25592, 25683, 25763, 25890, 25911, 25955, 26236, 26399, 26726, 26807, 26851, 27214, 27352, 27373, 27631, 28118, 28133, 28234, 28484, 28488, 28609, 28678, 28708, 28736, 28856, 29197, 29417, 29578, 30154, 30350, 30388, 30559, 30582, 30616, 30998, 31033, 31036, 31418, 31703, 31858, 31986, 32416, 32574, 32724, 32802, 32928, 32964, 33431, 33690, 33927, 34399, 34639, 35086, 36675, 36774, 36924, 36965, 37114, 37144, 37404, 37525, 37604, 37984, 37995, 38460, 38577, 39103, 39385, 39743, 40156, 40247, 40665, 40764, 41214, 41654, 41848, 42013, 42016, 42125, 42284, 42473, 42490, 42794, 43104, 43142, 43385, 43396, 43747, 44258, 44392, 44420, 44672, 44685, 44922, 45008, 45071, 45155, 45530, 45820, 46250, 46298, 46633, 47106, 47242, 48019, 48276, 48816, 49111, 49407, 49817, 50022, 50131, 50268, 50517, 50894, 51130, 51717, 51822, 51885, 52071, 52428, 52774, 52824, 53091, 53452]\n"
     ]
    }
   ],
   "source": [
    "# 빈 리스트 제거\n",
    "b = []\n",
    "for i in range(len(subset_df)):\n",
    "    if len(subset_df['v_n_ad'][i]) == 0:\n",
    "        b.append(i)\n",
    "print(b)"
   ]
  },
  {
   "cell_type": "code",
   "execution_count": 80,
   "metadata": {},
   "outputs": [],
   "source": [
    "# 빈 리스트 제거\n",
    "subset_df = subset_df[~subset_df.index.isin(b)]"
   ]
  },
  {
   "cell_type": "code",
   "execution_count": 82,
   "metadata": {
    "scrolled": true
   },
   "outputs": [
    {
     "name": "stdout",
     "output_type": "stream",
     "text": [
      "[]\n"
     ]
    }
   ],
   "source": [
    "# 빈 리스트 확인\n",
    "subset_df.index = range(len(subset_df))\n",
    "c= []\n",
    "for i in range(len(subset_df)):\n",
    "    if len(subset_df['v_n_ad'][i]) == 0:\n",
    "        c.append(i)\n",
    "print(c)"
   ]
  },
  {
   "cell_type": "code",
   "execution_count": 86,
   "metadata": {
    "scrolled": true
   },
   "outputs": [
    {
     "name": "stderr",
     "output_type": "stream",
     "text": [
      "C:\\Users\\Junmin\\Anaconda3\\lib\\site-packages\\ipykernel_launcher.py:9: SettingWithCopyWarning: \n",
      "A value is trying to be set on a copy of a slice from a DataFrame\n",
      "\n",
      "See the caveats in the documentation: http://pandas.pydata.org/pandas-docs/stable/user_guide/indexing.html#returning-a-view-versus-a-copy\n",
      "  if __name__ == '__main__':\n"
     ]
    },
    {
     "data": {
      "text/html": [
       "<div>\n",
       "<style scoped>\n",
       "    .dataframe tbody tr th:only-of-type {\n",
       "        vertical-align: middle;\n",
       "    }\n",
       "\n",
       "    .dataframe tbody tr th {\n",
       "        vertical-align: top;\n",
       "    }\n",
       "\n",
       "    .dataframe thead th {\n",
       "        text-align: right;\n",
       "    }\n",
       "</style>\n",
       "<table border=\"1\" class=\"dataframe\">\n",
       "  <thead>\n",
       "    <tr style=\"text-align: right;\">\n",
       "      <th></th>\n",
       "      <th>id</th>\n",
       "      <th>document</th>\n",
       "      <th>label</th>\n",
       "      <th>preprocessed_document</th>\n",
       "      <th>document_len</th>\n",
       "      <th>v_n_ad</th>\n",
       "    </tr>\n",
       "  </thead>\n",
       "  <tbody>\n",
       "    <tr>\n",
       "      <td>0</td>\n",
       "      <td>8112052</td>\n",
       "      <td>어릴때보고 지금다시봐도 재밌어요ㅋㅋ</td>\n",
       "      <td>1</td>\n",
       "      <td>어릴때보고 지금다시봐도 재밌어요ㅋㅋ</td>\n",
       "      <td>17.0</td>\n",
       "      <td>[어리다, 보고, 지금, 다시, 재밌다, ㅋㅋ]</td>\n",
       "    </tr>\n",
       "    <tr>\n",
       "      <td>1</td>\n",
       "      <td>9279041</td>\n",
       "      <td>완전 감동입니다 다시봐도 감동</td>\n",
       "      <td>1</td>\n",
       "      <td>완전 감동입니다 다시봐도 감동</td>\n",
       "      <td>13.0</td>\n",
       "      <td>[완전, 감동, 다시, 감동]</td>\n",
       "    </tr>\n",
       "    <tr>\n",
       "      <td>2</td>\n",
       "      <td>9250537</td>\n",
       "      <td>바보가 아니라 병 쉰 인듯</td>\n",
       "      <td>1</td>\n",
       "      <td>바보가 아니라 병 쉰 인듯</td>\n",
       "      <td>10.0</td>\n",
       "      <td>[바보, 병, 쉰]</td>\n",
       "    </tr>\n",
       "    <tr>\n",
       "      <td>3</td>\n",
       "      <td>9537008</td>\n",
       "      <td>고질라니무 귀엽다능ㅋㅋ</td>\n",
       "      <td>1</td>\n",
       "      <td>고질라니무 귀엽다능ㅋㅋ</td>\n",
       "      <td>11.0</td>\n",
       "      <td>[고질, 귀엽다, ㅋㅋ]</td>\n",
       "    </tr>\n",
       "    <tr>\n",
       "      <td>4</td>\n",
       "      <td>8703997</td>\n",
       "      <td>가면 갈수록 더욱 빠져드네요 밀회 화이팅!!</td>\n",
       "      <td>1</td>\n",
       "      <td>가면 갈수록 더욱 빠져드네요 밀회 화이팅</td>\n",
       "      <td>17.0</td>\n",
       "      <td>[가면, 갈수록, 더욱, 빠지다, 밀회, 화이팅]</td>\n",
       "    </tr>\n",
       "  </tbody>\n",
       "</table>\n",
       "</div>"
      ],
      "text/plain": [
       "        id                  document  label   preprocessed_document  \\\n",
       "0  8112052       어릴때보고 지금다시봐도 재밌어요ㅋㅋ      1     어릴때보고 지금다시봐도 재밌어요ㅋㅋ   \n",
       "1  9279041          완전 감동입니다 다시봐도 감동      1        완전 감동입니다 다시봐도 감동   \n",
       "2  9250537            바보가 아니라 병 쉰 인듯      1          바보가 아니라 병 쉰 인듯   \n",
       "3  9537008              고질라니무 귀엽다능ㅋㅋ      1            고질라니무 귀엽다능ㅋㅋ   \n",
       "4  8703997  가면 갈수록 더욱 빠져드네요 밀회 화이팅!!      1  가면 갈수록 더욱 빠져드네요 밀회 화이팅   \n",
       "\n",
       "   document_len                       v_n_ad  \n",
       "0          17.0   [어리다, 보고, 지금, 다시, 재밌다, ㅋㅋ]  \n",
       "1          13.0             [완전, 감동, 다시, 감동]  \n",
       "2          10.0                   [바보, 병, 쉰]  \n",
       "3          11.0                [고질, 귀엽다, ㅋㅋ]  \n",
       "4          17.0  [가면, 갈수록, 더욱, 빠지다, 밀회, 화이팅]  "
      ]
     },
     "execution_count": 86,
     "metadata": {},
     "output_type": "execute_result"
    }
   ],
   "source": [
    "# stopword 제거\n",
    "subset_df1 = subset_df.copy()\n",
    "result = []\n",
    "\n",
    "for i in range(len(subset_df1)):\n",
    "    result = []\n",
    "    for j in subset_df1['v_n_ad'][i]:\n",
    "        if j not in stopword:\n",
    "            result.append(j)\n",
    "    subset_df1['v_n_ad'][i] = result\n",
    "    \n",
    "subset_df1.head()"
   ]
  },
  {
   "cell_type": "code",
   "execution_count": 89,
   "metadata": {},
   "outputs": [
    {
     "name": "stdout",
     "output_type": "stream",
     "text": [
      "[]\n"
     ]
    }
   ],
   "source": [
    "# 빈리스트 제거\n",
    "c= []\n",
    "for i in range(len(subset_df1)):\n",
    "    if len(subset_df1['v_n_ad'][i]) == 0:\n",
    "        c.append(i)\n",
    "print(c)"
   ]
  },
  {
   "cell_type": "code",
   "execution_count": 88,
   "metadata": {},
   "outputs": [],
   "source": [
    "subset_df1 = subset_df1[~subset_df1.index.isin(c)]\n",
    "subset_df1.index = range(len(subset_df1))"
   ]
  },
  {
   "cell_type": "code",
   "execution_count": 91,
   "metadata": {},
   "outputs": [],
   "source": [
    "subset_df1.to_csv('2차.csv', index=False, encoding='utf-8')"
   ]
  }
 ],
 "metadata": {
  "colab": {
   "collapsed_sections": [],
   "name": "nsmc_preprocessing.ipynb",
   "provenance": [],
   "toc_visible": true
  },
  "kernelspec": {
   "display_name": "Python 3",
   "language": "python",
   "name": "python3"
  },
  "language_info": {
   "codemirror_mode": {
    "name": "ipython",
    "version": 3
   },
   "file_extension": ".py",
   "mimetype": "text/x-python",
   "name": "python",
   "nbconvert_exporter": "python",
   "pygments_lexer": "ipython3",
   "version": "3.7.4"
  }
 },
 "nbformat": 4,
 "nbformat_minor": 1
}
