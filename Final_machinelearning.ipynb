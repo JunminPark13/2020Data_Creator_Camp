{
  "nbformat": 4,
  "nbformat_minor": 0,
  "metadata": {
    "colab": {
      "name": "데이터사니이(머신러닝)",
      "provenance": [],
      "collapsed_sections": []
    },
    "kernelspec": {
      "display_name": "Python 3",
      "language": "python",
      "name": "python3"
    },
    "language_info": {
      "codemirror_mode": {
        "name": "ipython",
        "version": 3
      },
      "file_extension": ".py",
      "mimetype": "text/x-python",
      "name": "python",
      "nbconvert_exporter": "python",
      "pygments_lexer": "ipython3",
      "version": "3.7.4"
    }
  },
  "cells": [
    {
      "cell_type": "code",
      "metadata": {
        "id": "Y9tGQpTQP3W-"
      },
      "source": [
        "import sys\n",
        "sys.setrecursionlimit(4000)"
      ],
      "execution_count": 3,
      "outputs": []
    },
    {
      "cell_type": "code",
      "metadata": {
        "id": "3vVVCd1efczx"
      },
      "source": [
        "import pandas as pd\n",
        "import numpy as np\n",
        "import matplotlib.pyplot as plt\n",
        "from sklearn.linear_model import LogisticRegression\n",
        "from sklearn.svm import SVC\n",
        "from sklearn.linear_model import Perceptron\n",
        "from sklearn.model_selection import train_test_split\n",
        "from sklearn.metrics import mean_squared_error"
      ],
      "execution_count": 4,
      "outputs": []
    },
    {
      "cell_type": "markdown",
      "metadata": {
        "id": "JLXF5kVwfcz6"
      },
      "source": [
        "## 세부사항\n",
        "\n",
        "- X 데이터와 Y 데이터가 하나의 파일(csv)에 있음\n",
        "- 학습 데이터와 테스트 데이터의 비율은 80% : 20%\n",
        "- 모든 데이터(컬럼,로우)를 학습에 사용할 필요는 없습니다.\n",
        "- 실제 모델 결과보다 모델을 만들기까지의 과정이 중요합니다.\n",
        "- 어떠한 논리로 분석을 진행하였는지 설명을 세부적으로 적어주시길 바랍니다.\n",
        "- 머신러닝을 사용한 모델링 과정을 하나 이상 넣어 주시길 바랍니다."
      ]
    },
    {
      "cell_type": "markdown",
      "metadata": {
        "id": "mG5Elp-bfc0F"
      },
      "source": [
        "# 차량 이미지 데이터 (Classification)\n",
        "\n",
        "국내 차량 이미지 데이터를 보고 차량 클래스를 구분하는 모델을 만드시오.총 24,916개의 국산 차량 이미지 데이터가 있다.\n",
        "\n",
        "활용 예: CCTV나 자율주행차 개발에서 주위 차량 Detection 모델\n",
        "\n",
        "이미지는 30 x 30 x 3 짜리 이미지 가 픽셀 값으로 들어가 있고 마지막 컬럼에는 해당 차량의 클래스가 들어가 있다.\n",
        "\n",
        "파일명 : kcar.pkl (압축 형식 : Gzip)\n",
        "\n",
        "https://www.aihub.or.kr/aidata/130\n",
        "\n",
        "평가 지표 : Accuracy"
      ]
    },
    {
      "cell_type": "code",
      "metadata": {
        "colab": {
          "base_uri": "https://localhost:8080/"
        },
        "id": "Vu0vH22OQFBJ",
        "outputId": "c077bcfd-dd46-416b-9dcf-63c69c598539"
      },
      "source": [
        "from google.colab import drive\n",
        "drive.mount('/content/drive')"
      ],
      "execution_count": 5,
      "outputs": [
        {
          "output_type": "stream",
          "text": [
            "Mounted at /content/drive\n"
          ],
          "name": "stdout"
        }
      ]
    },
    {
      "cell_type": "code",
      "metadata": {
        "colab": {
          "base_uri": "https://localhost:8080/"
        },
        "id": "n0peLvWIfc0F",
        "outputId": "22fbc949-c704-4a5f-cab5-8b5e355c7835"
      },
      "source": [
        "train = pd.read_pickle(\"/content/drive/MyDrive/잭상/kcar.pkl\", compression='gzip')\n",
        "train.shape"
      ],
      "execution_count": 17,
      "outputs": [
        {
          "output_type": "execute_result",
          "data": {
            "text/plain": [
              "(24916, 2701)"
            ]
          },
          "metadata": {
            "tags": []
          },
          "execution_count": 17
        }
      ]
    },
    {
      "cell_type": "code",
      "metadata": {
        "id": "JTDPc8KSV8ph"
      },
      "source": [
        "train = train.sample(n=3000,random_state=1234)"
      ],
      "execution_count": 18,
      "outputs": []
    },
    {
      "cell_type": "code",
      "metadata": {
        "colab": {
          "base_uri": "https://localhost:8080/"
        },
        "id": "-zDPUmAtV9dX",
        "outputId": "ccc616f4-fb87-47f6-cf99-cdffd0f3b69d"
      },
      "source": [
        "train.shape"
      ],
      "execution_count": 19,
      "outputs": [
        {
          "output_type": "execute_result",
          "data": {
            "text/plain": [
              "(3000, 2701)"
            ]
          },
          "metadata": {
            "tags": []
          },
          "execution_count": 19
        }
      ]
    },
    {
      "cell_type": "code",
      "metadata": {
        "colab": {
          "base_uri": "https://localhost:8080/",
          "height": 395
        },
        "id": "KAVhZ3j8x-dn",
        "outputId": "7597bcac-557e-44ba-f656-245f49301941"
      },
      "source": [
        "train.head() # 2700개의 픽셀과 1개의 라벨"
      ],
      "execution_count": 20,
      "outputs": [
        {
          "output_type": "execute_result",
          "data": {
            "text/html": [
              "<div>\n",
              "<style scoped>\n",
              "    .dataframe tbody tr th:only-of-type {\n",
              "        vertical-align: middle;\n",
              "    }\n",
              "\n",
              "    .dataframe tbody tr th {\n",
              "        vertical-align: top;\n",
              "    }\n",
              "\n",
              "    .dataframe thead th {\n",
              "        text-align: right;\n",
              "    }\n",
              "</style>\n",
              "<table border=\"1\" class=\"dataframe\">\n",
              "  <thead>\n",
              "    <tr style=\"text-align: right;\">\n",
              "      <th></th>\n",
              "      <th>0</th>\n",
              "      <th>1</th>\n",
              "      <th>2</th>\n",
              "      <th>3</th>\n",
              "      <th>4</th>\n",
              "      <th>5</th>\n",
              "      <th>6</th>\n",
              "      <th>7</th>\n",
              "      <th>8</th>\n",
              "      <th>9</th>\n",
              "      <th>10</th>\n",
              "      <th>11</th>\n",
              "      <th>12</th>\n",
              "      <th>13</th>\n",
              "      <th>14</th>\n",
              "      <th>15</th>\n",
              "      <th>16</th>\n",
              "      <th>17</th>\n",
              "      <th>18</th>\n",
              "      <th>19</th>\n",
              "      <th>20</th>\n",
              "      <th>21</th>\n",
              "      <th>22</th>\n",
              "      <th>23</th>\n",
              "      <th>24</th>\n",
              "      <th>25</th>\n",
              "      <th>26</th>\n",
              "      <th>27</th>\n",
              "      <th>28</th>\n",
              "      <th>29</th>\n",
              "      <th>30</th>\n",
              "      <th>31</th>\n",
              "      <th>32</th>\n",
              "      <th>33</th>\n",
              "      <th>34</th>\n",
              "      <th>35</th>\n",
              "      <th>36</th>\n",
              "      <th>37</th>\n",
              "      <th>38</th>\n",
              "      <th>39</th>\n",
              "      <th>...</th>\n",
              "      <th>2661</th>\n",
              "      <th>2662</th>\n",
              "      <th>2663</th>\n",
              "      <th>2664</th>\n",
              "      <th>2665</th>\n",
              "      <th>2666</th>\n",
              "      <th>2667</th>\n",
              "      <th>2668</th>\n",
              "      <th>2669</th>\n",
              "      <th>2670</th>\n",
              "      <th>2671</th>\n",
              "      <th>2672</th>\n",
              "      <th>2673</th>\n",
              "      <th>2674</th>\n",
              "      <th>2675</th>\n",
              "      <th>2676</th>\n",
              "      <th>2677</th>\n",
              "      <th>2678</th>\n",
              "      <th>2679</th>\n",
              "      <th>2680</th>\n",
              "      <th>2681</th>\n",
              "      <th>2682</th>\n",
              "      <th>2683</th>\n",
              "      <th>2684</th>\n",
              "      <th>2685</th>\n",
              "      <th>2686</th>\n",
              "      <th>2687</th>\n",
              "      <th>2688</th>\n",
              "      <th>2689</th>\n",
              "      <th>2690</th>\n",
              "      <th>2691</th>\n",
              "      <th>2692</th>\n",
              "      <th>2693</th>\n",
              "      <th>2694</th>\n",
              "      <th>2695</th>\n",
              "      <th>2696</th>\n",
              "      <th>2697</th>\n",
              "      <th>2698</th>\n",
              "      <th>2699</th>\n",
              "      <th>2700</th>\n",
              "    </tr>\n",
              "  </thead>\n",
              "  <tbody>\n",
              "    <tr>\n",
              "      <th>7461</th>\n",
              "      <td>115</td>\n",
              "      <td>130</td>\n",
              "      <td>111</td>\n",
              "      <td>125</td>\n",
              "      <td>140</td>\n",
              "      <td>121</td>\n",
              "      <td>208</td>\n",
              "      <td>223</td>\n",
              "      <td>204</td>\n",
              "      <td>136</td>\n",
              "      <td>151</td>\n",
              "      <td>132</td>\n",
              "      <td>124</td>\n",
              "      <td>139</td>\n",
              "      <td>120</td>\n",
              "      <td>128</td>\n",
              "      <td>143</td>\n",
              "      <td>124</td>\n",
              "      <td>127</td>\n",
              "      <td>140</td>\n",
              "      <td>122</td>\n",
              "      <td>123</td>\n",
              "      <td>136</td>\n",
              "      <td>118</td>\n",
              "      <td>124</td>\n",
              "      <td>137</td>\n",
              "      <td>119</td>\n",
              "      <td>114</td>\n",
              "      <td>127</td>\n",
              "      <td>109</td>\n",
              "      <td>85</td>\n",
              "      <td>96</td>\n",
              "      <td>79</td>\n",
              "      <td>66</td>\n",
              "      <td>77</td>\n",
              "      <td>60</td>\n",
              "      <td>84</td>\n",
              "      <td>95</td>\n",
              "      <td>78</td>\n",
              "      <td>107</td>\n",
              "      <td>...</td>\n",
              "      <td>170</td>\n",
              "      <td>175</td>\n",
              "      <td>171</td>\n",
              "      <td>167</td>\n",
              "      <td>172</td>\n",
              "      <td>168</td>\n",
              "      <td>168</td>\n",
              "      <td>173</td>\n",
              "      <td>169</td>\n",
              "      <td>173</td>\n",
              "      <td>175</td>\n",
              "      <td>172</td>\n",
              "      <td>174</td>\n",
              "      <td>176</td>\n",
              "      <td>173</td>\n",
              "      <td>173</td>\n",
              "      <td>173</td>\n",
              "      <td>171</td>\n",
              "      <td>170</td>\n",
              "      <td>170</td>\n",
              "      <td>168</td>\n",
              "      <td>169</td>\n",
              "      <td>168</td>\n",
              "      <td>166</td>\n",
              "      <td>171</td>\n",
              "      <td>170</td>\n",
              "      <td>168</td>\n",
              "      <td>174</td>\n",
              "      <td>173</td>\n",
              "      <td>171</td>\n",
              "      <td>178</td>\n",
              "      <td>177</td>\n",
              "      <td>175</td>\n",
              "      <td>182</td>\n",
              "      <td>178</td>\n",
              "      <td>177</td>\n",
              "      <td>183</td>\n",
              "      <td>179</td>\n",
              "      <td>178</td>\n",
              "      <td>맥스크루즈</td>\n",
              "    </tr>\n",
              "    <tr>\n",
              "      <th>24837</th>\n",
              "      <td>114</td>\n",
              "      <td>104</td>\n",
              "      <td>55</td>\n",
              "      <td>103</td>\n",
              "      <td>93</td>\n",
              "      <td>44</td>\n",
              "      <td>91</td>\n",
              "      <td>80</td>\n",
              "      <td>35</td>\n",
              "      <td>82</td>\n",
              "      <td>70</td>\n",
              "      <td>28</td>\n",
              "      <td>76</td>\n",
              "      <td>67</td>\n",
              "      <td>26</td>\n",
              "      <td>77</td>\n",
              "      <td>67</td>\n",
              "      <td>31</td>\n",
              "      <td>86</td>\n",
              "      <td>78</td>\n",
              "      <td>42</td>\n",
              "      <td>97</td>\n",
              "      <td>88</td>\n",
              "      <td>55</td>\n",
              "      <td>167</td>\n",
              "      <td>160</td>\n",
              "      <td>131</td>\n",
              "      <td>129</td>\n",
              "      <td>122</td>\n",
              "      <td>93</td>\n",
              "      <td>97</td>\n",
              "      <td>92</td>\n",
              "      <td>63</td>\n",
              "      <td>96</td>\n",
              "      <td>91</td>\n",
              "      <td>62</td>\n",
              "      <td>100</td>\n",
              "      <td>96</td>\n",
              "      <td>67</td>\n",
              "      <td>90</td>\n",
              "      <td>...</td>\n",
              "      <td>152</td>\n",
              "      <td>154</td>\n",
              "      <td>153</td>\n",
              "      <td>154</td>\n",
              "      <td>156</td>\n",
              "      <td>155</td>\n",
              "      <td>156</td>\n",
              "      <td>158</td>\n",
              "      <td>157</td>\n",
              "      <td>157</td>\n",
              "      <td>157</td>\n",
              "      <td>159</td>\n",
              "      <td>155</td>\n",
              "      <td>155</td>\n",
              "      <td>157</td>\n",
              "      <td>153</td>\n",
              "      <td>153</td>\n",
              "      <td>155</td>\n",
              "      <td>152</td>\n",
              "      <td>152</td>\n",
              "      <td>154</td>\n",
              "      <td>159</td>\n",
              "      <td>159</td>\n",
              "      <td>159</td>\n",
              "      <td>152</td>\n",
              "      <td>152</td>\n",
              "      <td>152</td>\n",
              "      <td>148</td>\n",
              "      <td>146</td>\n",
              "      <td>147</td>\n",
              "      <td>149</td>\n",
              "      <td>147</td>\n",
              "      <td>148</td>\n",
              "      <td>149</td>\n",
              "      <td>148</td>\n",
              "      <td>146</td>\n",
              "      <td>148</td>\n",
              "      <td>147</td>\n",
              "      <td>145</td>\n",
              "      <td>팰리세이드</td>\n",
              "    </tr>\n",
              "    <tr>\n",
              "      <th>3667</th>\n",
              "      <td>50</td>\n",
              "      <td>61</td>\n",
              "      <td>63</td>\n",
              "      <td>59</td>\n",
              "      <td>70</td>\n",
              "      <td>72</td>\n",
              "      <td>64</td>\n",
              "      <td>75</td>\n",
              "      <td>77</td>\n",
              "      <td>71</td>\n",
              "      <td>82</td>\n",
              "      <td>84</td>\n",
              "      <td>80</td>\n",
              "      <td>90</td>\n",
              "      <td>91</td>\n",
              "      <td>75</td>\n",
              "      <td>85</td>\n",
              "      <td>86</td>\n",
              "      <td>71</td>\n",
              "      <td>80</td>\n",
              "      <td>79</td>\n",
              "      <td>80</td>\n",
              "      <td>89</td>\n",
              "      <td>88</td>\n",
              "      <td>51</td>\n",
              "      <td>57</td>\n",
              "      <td>55</td>\n",
              "      <td>68</td>\n",
              "      <td>74</td>\n",
              "      <td>72</td>\n",
              "      <td>88</td>\n",
              "      <td>93</td>\n",
              "      <td>89</td>\n",
              "      <td>66</td>\n",
              "      <td>71</td>\n",
              "      <td>67</td>\n",
              "      <td>84</td>\n",
              "      <td>86</td>\n",
              "      <td>81</td>\n",
              "      <td>93</td>\n",
              "      <td>...</td>\n",
              "      <td>174</td>\n",
              "      <td>167</td>\n",
              "      <td>159</td>\n",
              "      <td>121</td>\n",
              "      <td>114</td>\n",
              "      <td>106</td>\n",
              "      <td>117</td>\n",
              "      <td>110</td>\n",
              "      <td>102</td>\n",
              "      <td>131</td>\n",
              "      <td>126</td>\n",
              "      <td>120</td>\n",
              "      <td>128</td>\n",
              "      <td>123</td>\n",
              "      <td>117</td>\n",
              "      <td>126</td>\n",
              "      <td>123</td>\n",
              "      <td>118</td>\n",
              "      <td>118</td>\n",
              "      <td>115</td>\n",
              "      <td>110</td>\n",
              "      <td>123</td>\n",
              "      <td>122</td>\n",
              "      <td>118</td>\n",
              "      <td>123</td>\n",
              "      <td>122</td>\n",
              "      <td>118</td>\n",
              "      <td>122</td>\n",
              "      <td>122</td>\n",
              "      <td>120</td>\n",
              "      <td>122</td>\n",
              "      <td>122</td>\n",
              "      <td>120</td>\n",
              "      <td>121</td>\n",
              "      <td>121</td>\n",
              "      <td>119</td>\n",
              "      <td>120</td>\n",
              "      <td>120</td>\n",
              "      <td>118</td>\n",
              "      <td>그랜저 IG</td>\n",
              "    </tr>\n",
              "    <tr>\n",
              "      <th>24383</th>\n",
              "      <td>17</td>\n",
              "      <td>34</td>\n",
              "      <td>44</td>\n",
              "      <td>23</td>\n",
              "      <td>40</td>\n",
              "      <td>50</td>\n",
              "      <td>25</td>\n",
              "      <td>42</td>\n",
              "      <td>50</td>\n",
              "      <td>24</td>\n",
              "      <td>41</td>\n",
              "      <td>49</td>\n",
              "      <td>31</td>\n",
              "      <td>46</td>\n",
              "      <td>53</td>\n",
              "      <td>40</td>\n",
              "      <td>55</td>\n",
              "      <td>62</td>\n",
              "      <td>44</td>\n",
              "      <td>59</td>\n",
              "      <td>66</td>\n",
              "      <td>42</td>\n",
              "      <td>57</td>\n",
              "      <td>64</td>\n",
              "      <td>55</td>\n",
              "      <td>68</td>\n",
              "      <td>76</td>\n",
              "      <td>66</td>\n",
              "      <td>79</td>\n",
              "      <td>87</td>\n",
              "      <td>73</td>\n",
              "      <td>85</td>\n",
              "      <td>97</td>\n",
              "      <td>69</td>\n",
              "      <td>81</td>\n",
              "      <td>93</td>\n",
              "      <td>62</td>\n",
              "      <td>74</td>\n",
              "      <td>90</td>\n",
              "      <td>56</td>\n",
              "      <td>...</td>\n",
              "      <td>24</td>\n",
              "      <td>29</td>\n",
              "      <td>35</td>\n",
              "      <td>26</td>\n",
              "      <td>31</td>\n",
              "      <td>35</td>\n",
              "      <td>28</td>\n",
              "      <td>34</td>\n",
              "      <td>34</td>\n",
              "      <td>33</td>\n",
              "      <td>37</td>\n",
              "      <td>38</td>\n",
              "      <td>34</td>\n",
              "      <td>38</td>\n",
              "      <td>39</td>\n",
              "      <td>28</td>\n",
              "      <td>32</td>\n",
              "      <td>35</td>\n",
              "      <td>19</td>\n",
              "      <td>22</td>\n",
              "      <td>29</td>\n",
              "      <td>24</td>\n",
              "      <td>27</td>\n",
              "      <td>36</td>\n",
              "      <td>20</td>\n",
              "      <td>22</td>\n",
              "      <td>34</td>\n",
              "      <td>26</td>\n",
              "      <td>28</td>\n",
              "      <td>40</td>\n",
              "      <td>22</td>\n",
              "      <td>25</td>\n",
              "      <td>32</td>\n",
              "      <td>80</td>\n",
              "      <td>84</td>\n",
              "      <td>87</td>\n",
              "      <td>124</td>\n",
              "      <td>128</td>\n",
              "      <td>127</td>\n",
              "      <td>팰리세이드</td>\n",
              "    </tr>\n",
              "    <tr>\n",
              "      <th>8071</th>\n",
              "      <td>81</td>\n",
              "      <td>106</td>\n",
              "      <td>87</td>\n",
              "      <td>126</td>\n",
              "      <td>151</td>\n",
              "      <td>132</td>\n",
              "      <td>134</td>\n",
              "      <td>157</td>\n",
              "      <td>139</td>\n",
              "      <td>134</td>\n",
              "      <td>157</td>\n",
              "      <td>139</td>\n",
              "      <td>139</td>\n",
              "      <td>160</td>\n",
              "      <td>143</td>\n",
              "      <td>142</td>\n",
              "      <td>163</td>\n",
              "      <td>146</td>\n",
              "      <td>151</td>\n",
              "      <td>170</td>\n",
              "      <td>151</td>\n",
              "      <td>137</td>\n",
              "      <td>156</td>\n",
              "      <td>137</td>\n",
              "      <td>138</td>\n",
              "      <td>155</td>\n",
              "      <td>136</td>\n",
              "      <td>121</td>\n",
              "      <td>138</td>\n",
              "      <td>119</td>\n",
              "      <td>149</td>\n",
              "      <td>164</td>\n",
              "      <td>145</td>\n",
              "      <td>98</td>\n",
              "      <td>113</td>\n",
              "      <td>94</td>\n",
              "      <td>94</td>\n",
              "      <td>107</td>\n",
              "      <td>87</td>\n",
              "      <td>127</td>\n",
              "      <td>...</td>\n",
              "      <td>171</td>\n",
              "      <td>176</td>\n",
              "      <td>172</td>\n",
              "      <td>171</td>\n",
              "      <td>176</td>\n",
              "      <td>172</td>\n",
              "      <td>172</td>\n",
              "      <td>177</td>\n",
              "      <td>173</td>\n",
              "      <td>176</td>\n",
              "      <td>178</td>\n",
              "      <td>173</td>\n",
              "      <td>178</td>\n",
              "      <td>180</td>\n",
              "      <td>175</td>\n",
              "      <td>180</td>\n",
              "      <td>181</td>\n",
              "      <td>176</td>\n",
              "      <td>181</td>\n",
              "      <td>182</td>\n",
              "      <td>177</td>\n",
              "      <td>180</td>\n",
              "      <td>181</td>\n",
              "      <td>175</td>\n",
              "      <td>179</td>\n",
              "      <td>180</td>\n",
              "      <td>174</td>\n",
              "      <td>178</td>\n",
              "      <td>177</td>\n",
              "      <td>172</td>\n",
              "      <td>176</td>\n",
              "      <td>175</td>\n",
              "      <td>170</td>\n",
              "      <td>175</td>\n",
              "      <td>175</td>\n",
              "      <td>167</td>\n",
              "      <td>174</td>\n",
              "      <td>174</td>\n",
              "      <td>166</td>\n",
              "      <td>벨로스터</td>\n",
              "    </tr>\n",
              "  </tbody>\n",
              "</table>\n",
              "<p>5 rows × 2701 columns</p>\n",
              "</div>"
            ],
            "text/plain": [
              "      0    1    2    3    4    5    6     ... 2694 2695 2696 2697 2698 2699    2700\n",
              "7461   115  130  111  125  140  121  208  ...  182  178  177  183  179  178   맥스크루즈\n",
              "24837  114  104   55  103   93   44   91  ...  149  148  146  148  147  145   팰리세이드\n",
              "3667    50   61   63   59   70   72   64  ...  121  121  119  120  120  118  그랜저 IG\n",
              "24383   17   34   44   23   40   50   25  ...   80   84   87  124  128  127   팰리세이드\n",
              "8071    81  106   87  126  151  132  134  ...  175  175  167  174  174  166    벨로스터\n",
              "\n",
              "[5 rows x 2701 columns]"
            ]
          },
          "metadata": {
            "tags": []
          },
          "execution_count": 20
        }
      ]
    },
    {
      "cell_type": "code",
      "metadata": {
        "colab": {
          "base_uri": "https://localhost:8080/"
        },
        "id": "SDnor_yCfc0I",
        "outputId": "fb7bb536-8a4b-4bff-d931-24412dedca34"
      },
      "source": [
        "# X와 y로 나누기\n",
        "# X는 한 픽셀을 Feature로 잡은 것 입니다.\n",
        "# y는 label입니다. \n",
        "X = train.iloc[:,:-1]\n",
        "y = train.iloc[:,-1]\n",
        "X.shape, y.shape"
      ],
      "execution_count": 21,
      "outputs": [
        {
          "output_type": "execute_result",
          "data": {
            "text/plain": [
              "((3000, 2700), (3000,))"
            ]
          },
          "metadata": {
            "tags": []
          },
          "execution_count": 21
        }
      ]
    },
    {
      "cell_type": "code",
      "metadata": {
        "colab": {
          "base_uri": "https://localhost:8080/"
        },
        "id": "-Opl1CtINCWs",
        "outputId": "8d31edb5-31fe-4913-b3e2-a91846e5edaf"
      },
      "source": [
        "y.values"
      ],
      "execution_count": 22,
      "outputs": [
        {
          "output_type": "execute_result",
          "data": {
            "text/plain": [
              "array(['맥스크루즈', '팰리세이드', '그랜저 IG', ..., '소나타 하이브리드', '싼타페', '소나타 NF'],\n",
              "      dtype=object)"
            ]
          },
          "metadata": {
            "tags": []
          },
          "execution_count": 22
        }
      ]
    },
    {
      "cell_type": "code",
      "metadata": {
        "colab": {
          "base_uri": "https://localhost:8080/"
        },
        "id": "7NwKePH9LQ3m",
        "outputId": "7d03d907-d2db-4e67-ff88-84865bdd8572"
      },
      "source": [
        "from sklearn.preprocessing import LabelEncoder\n",
        "\n",
        "LE = LabelEncoder()\n",
        "y['code'] = LE.fit_transform(y.values)\n",
        "y['code']"
      ],
      "execution_count": 23,
      "outputs": [
        {
          "output_type": "execute_result",
          "data": {
            "text/plain": [
              "array([ 9, 33,  5, ..., 17, 19, 14])"
            ]
          },
          "metadata": {
            "tags": []
          },
          "execution_count": 23
        }
      ]
    },
    {
      "cell_type": "code",
      "metadata": {
        "colab": {
          "base_uri": "https://localhost:8080/"
        },
        "id": "6fo6O7S-N26p",
        "outputId": "675caf9e-cfc0-4300-e382-0a29f88b37a6"
      },
      "source": [
        "from sklearn.preprocessing import OneHotEncoder\n",
        "enc = OneHotEncoder()\n",
        "enc.fit(y['code'].reshape(-1,1))\n",
        "new_y = enc.transform(y['code'].reshape(-1,1)).toarray()\n",
        "new_y"
      ],
      "execution_count": 24,
      "outputs": [
        {
          "output_type": "execute_result",
          "data": {
            "text/plain": [
              "array([[0., 0., 0., ..., 0., 0., 0.],\n",
              "       [0., 0., 0., ..., 0., 0., 1.],\n",
              "       [0., 0., 0., ..., 0., 0., 0.],\n",
              "       ...,\n",
              "       [0., 0., 0., ..., 0., 0., 0.],\n",
              "       [0., 0., 0., ..., 0., 0., 0.],\n",
              "       [0., 0., 0., ..., 0., 0., 0.]])"
            ]
          },
          "metadata": {
            "tags": []
          },
          "execution_count": 24
        }
      ]
    },
    {
      "cell_type": "code",
      "metadata": {
        "colab": {
          "base_uri": "https://localhost:8080/",
          "height": 302
        },
        "id": "FtmgWh8Hfc0S",
        "outputId": "11a7604b-eab0-437c-9128-8be860cdd23a"
      },
      "source": [
        "# 0번째 label 및 이미지 확인\n",
        "print(y.iloc[0])\n",
        "plt.imshow(X.iloc[0].values.astype(np.int).reshape(30,30,3)) # (32,32,3)으로 변환"
      ],
      "execution_count": 30,
      "outputs": [
        {
          "output_type": "stream",
          "text": [
            "소나타 NF\n"
          ],
          "name": "stdout"
        },
        {
          "output_type": "execute_result",
          "data": {
            "text/plain": [
              "<matplotlib.image.AxesImage at 0x7f36063eb2b0>"
            ]
          },
          "metadata": {
            "tags": []
          },
          "execution_count": 30
        },
        {
          "output_type": "display_data",
          "data": {
            "image/png": "[encoded data removed]",
            "text/plain": [
              "<Figure size 432x288 with 1 Axes>"
            ]
          },
          "metadata": {
            "tags": [],
            "needs_background": "light"
          }
        }
      ]
    },
    {
      "cell_type": "code",
      "metadata": {
        "colab": {
          "base_uri": "https://localhost:8080/",
          "height": 302
        },
        "id": "xBkgJmVX2N7B",
        "outputId": "a7ee60bb-35a2-4a1e-a1a0-0a8fa4f3f832"
      },
      "source": [
        "# 200번째 label 및 이미지 확인\n",
        "print(y.iloc[200])\n",
        "plt.imshow(X.iloc[200].values.astype(np.int).reshape(30,30,3))"
      ],
      "execution_count": 31,
      "outputs": [
        {
          "output_type": "stream",
          "text": [
            "맥스크루즈\n"
          ],
          "name": "stdout"
        },
        {
          "output_type": "execute_result",
          "data": {
            "text/plain": [
              "<matplotlib.image.AxesImage at 0x7f3605f45358>"
            ]
          },
          "metadata": {
            "tags": []
          },
          "execution_count": 31
        },
        {
          "output_type": "display_data",
          "data": {
            "image/png": "[encoded data removed]",
            "text/plain": [
              "<Figure size 432x288 with 1 Axes>"
            ]
          },
          "metadata": {
            "tags": [],
            "needs_background": "light"
          }
        }
      ]
    },
    {
      "cell_type": "code",
      "metadata": {
        "colab": {
          "base_uri": "https://localhost:8080/",
          "height": 302
        },
        "id": "IXP3PoNPTiTC",
        "outputId": "084f8718-da05-42b2-b415-14c9a85b8cc7"
      },
      "source": [
        "# 400번째 label 및 이미지 확인\n",
        "print(y.iloc[400])\n",
        "plt.imshow(X.iloc[400].values.astype(np.int).reshape(30,30,3))"
      ],
      "execution_count": 32,
      "outputs": [
        {
          "output_type": "stream",
          "text": [
            "i30\n"
          ],
          "name": "stdout"
        },
        {
          "output_type": "execute_result",
          "data": {
            "text/plain": [
              "<matplotlib.image.AxesImage at 0x7f3605ee4438>"
            ]
          },
          "metadata": {
            "tags": []
          },
          "execution_count": 32
        },
        {
          "output_type": "display_data",
          "data": {
            "image/png": "[encoded data removed]",
            "text/plain": [
              "<Figure size 432x288 with 1 Axes>"
            ]
          },
          "metadata": {
            "tags": [],
            "needs_background": "light"
          }
        }
      ]
    },
    {
      "cell_type": "code",
      "metadata": {
        "id": "uQOlKlp2R7Ze"
      },
      "source": [
        "y = y['code']"
      ],
      "execution_count": 25,
      "outputs": []
    },
    {
      "cell_type": "code",
      "metadata": {
        "colab": {
          "base_uri": "https://localhost:8080/"
        },
        "id": "tBRfRSyyuL63",
        "outputId": "272d2004-cfe0-4984-f31c-6bf7dcd8e9d7"
      },
      "source": [
        "from sklearn.model_selection import train_test_split\n",
        "X_train,X_test,y_train,y_test = train_test_split(X,y,test_size=0.2,random_state=1, stratify=y)\n",
        "X_train.shape, X_test.shape, y_train.shape, y_test.shape"
      ],
      "execution_count": 26,
      "outputs": [
        {
          "output_type": "execute_result",
          "data": {
            "text/plain": [
              "((2400, 2700), (600, 2700), (2400,), (600,))"
            ]
          },
          "metadata": {
            "tags": []
          },
          "execution_count": 26
        }
      ]
    },
    {
      "cell_type": "code",
      "metadata": {
        "colab": {
          "base_uri": "https://localhost:8080/",
          "height": 316
        },
        "id": "F_EErXvmlUgd",
        "outputId": "e576f5cf-df6a-4031-c4e8-132365792d36"
      },
      "source": [
        "pd.DataFrame(y_train).hist()"
      ],
      "execution_count": 86,
      "outputs": [
        {
          "output_type": "execute_result",
          "data": {
            "text/plain": [
              "array([[<matplotlib.axes._subplots.AxesSubplot object at 0x7fbc4a732c18>]],\n",
              "      dtype=object)"
            ]
          },
          "metadata": {
            "tags": []
          },
          "execution_count": 86
        },
        {
          "output_type": "display_data",
          "data": {
            "image/png": "[encoded data removed]",
            "text/plain": [
              "<Figure size 432x288 with 1 Axes>"
            ]
          },
          "metadata": {
            "tags": [],
            "needs_background": "light"
          }
        }
      ]
    },
    {
      "cell_type": "code",
      "metadata": {
        "colab": {
          "base_uri": "https://localhost:8080/",
          "height": 316
        },
        "id": "nXc8HJC5lGok",
        "outputId": "6020f06f-0d1b-4c8a-cfda-6ac4c3330962"
      },
      "source": [
        "pd.DataFrame(y_test).hist()"
      ],
      "execution_count": 87,
      "outputs": [
        {
          "output_type": "execute_result",
          "data": {
            "text/plain": [
              "array([[<matplotlib.axes._subplots.AxesSubplot object at 0x7fbc4a719898>]],\n",
              "      dtype=object)"
            ]
          },
          "metadata": {
            "tags": []
          },
          "execution_count": 87
        },
        {
          "output_type": "display_data",
          "data": {
            "image/png": "[encoded data removed]",
            "text/plain": [
              "<Figure size 432x288 with 1 Axes>"
            ]
          },
          "metadata": {
            "tags": [],
            "needs_background": "light"
          }
        }
      ]
    },
    {
      "cell_type": "code",
      "metadata": {
        "colab": {
          "base_uri": "https://localhost:8080/"
        },
        "id": "80upnJVDuswF",
        "outputId": "8887a8bd-de48-46d2-ac5d-fb1af7bf1b64"
      },
      "source": [
        "# 샘플 모델 3개 : Logistic Regression, SVC, Perceptron\n",
        "def RunModel(model, X_train, y_train, X_test, y_test):\n",
        "    clf = model.fit(X_train, y_train)\n",
        "    pred = model.predict(X_test)\n",
        "    return clf, pred\n",
        "\n",
        "lr = LogisticRegression()\n",
        "clf, y_pred = RunModel(lr, X_train, y_train, X_test, y_test)\n",
        "\n",
        "# svc = SVC()\n",
        "# clf_svc, y_pred_svc = RunModel(svc, X_train, y_train, X_test, y_test)\n",
        "\n",
        "# perc = Perceptron(tol=1e-3, random_state=0)\n",
        "# clf_perc, y_pred_perc = RunModel(perc, X_train, y_train, X_test, y_test)"
      ],
      "execution_count": 51,
      "outputs": [
        {
          "output_type": "stream",
          "text": [
            "/usr/local/lib/python3.6/dist-packages/sklearn/linear_model/_logistic.py:940: ConvergenceWarning: lbfgs failed to converge (status=1):\n",
            "STOP: TOTAL NO. of ITERATIONS REACHED LIMIT.\n",
            "\n",
            "Increase the number of iterations (max_iter) or scale the data as shown in:\n",
            "    https://scikit-learn.org/stable/modules/preprocessing.html\n",
            "Please also refer to the documentation for alternative solver options:\n",
            "    https://scikit-learn.org/stable/modules/linear_model.html#logistic-regression\n",
            "  extra_warning_msg=_LOGISTIC_SOLVER_CONVERGENCE_MSG)\n"
          ],
          "name": "stderr"
        }
      ]
    },
    {
      "cell_type": "code",
      "metadata": {
        "id": "4QAb0yHmYFkc"
      },
      "source": [
        "# y_test = le.inverse_transform(y_test)\n",
        "# y_pred = le.inverse_transform(y_pred)\n",
        "# y_pred_svc = le.inverse_transform(y_pred_svc)\n",
        "# y_pred_perc = le.inverse_transform(y_pred_perc)"
      ],
      "execution_count": null,
      "outputs": []
    },
    {
      "cell_type": "code",
      "metadata": {
        "colab": {
          "base_uri": "https://localhost:8080/"
        },
        "id": "jqvrV_aXu4P2",
        "outputId": "12af8f8f-b08b-454e-8ce8-949956d0d121"
      },
      "source": [
        "from sklearn import metrics\n",
        "print(\"Accuracy:\", metrics.accuracy_score(y_test, y_pred))\n",
        "# print(\"SVC Accuracy:\", metrics.accuracy_score(y_test, y_pred_svc))\n",
        "# print(\"Perceptron Accuracy:\", metrics.accuracy_score(y_test, y_pred_perc))"
      ],
      "execution_count": 54,
      "outputs": [
        {
          "output_type": "stream",
          "text": [
            "Accuracy: 0.17937399678972712\n"
          ],
          "name": "stdout"
        }
      ]
    },
    {
      "cell_type": "code",
      "metadata": {
        "colab": {
          "base_uri": "https://localhost:8080/",
          "height": 319
        },
        "id": "WLX8YNsST0-0",
        "outputId": "bc479f71-4abd-4c1b-9c09-61c04631df4e"
      },
      "source": [
        "import random\n",
        "t = random.randint(0, len(X_test)-1)\n",
        "# 0번째 테스트 label 및 이미지 확인\n",
        "print(\"정답:\", le.inverse_transform([y_test[0]]))\n",
        "print(\"모델 결과:\", le.inverse_transform([y_pred[0]]))\n",
        "# print(\"SVC 모델 결과:\", y_pred_svc[0])\n",
        "# print(\"Perceptron 모델 결과:\", y_pred_perc[0])\n",
        "plt.imshow(X_test.iloc[0].values.astype(np.int).reshape(30,30,3)) # (32,32,3)으로 변환"
      ],
      "execution_count": 55,
      "outputs": [
        {
          "output_type": "stream",
          "text": [
            "정답: ['아이오닉 하이브리드']\n",
            "모델 결과: ['G90']\n"
          ],
          "name": "stdout"
        },
        {
          "output_type": "execute_result",
          "data": {
            "text/plain": [
              "<matplotlib.image.AxesImage at 0x7fbd042d6828>"
            ]
          },
          "metadata": {
            "tags": []
          },
          "execution_count": 55
        },
        {
          "output_type": "display_data",
          "data": {
            "image/png": "[encoded data removed]",
            "text/plain": [
              "<Figure size 432x288 with 1 Axes>"
            ]
          },
          "metadata": {
            "tags": [],
            "needs_background": "light"
          }
        }
      ]
    },
    {
      "cell_type": "markdown",
      "metadata": {
        "id": "7wmj8vVTubQr"
      },
      "source": [
        "머신러닝 과정"
      ]
    },
    {
      "cell_type": "code",
      "metadata": {
        "id": "liiUjc6hTdd-"
      },
      "source": [
        "import lightgbm as lgb"
      ],
      "execution_count": 27,
      "outputs": []
    },
    {
      "cell_type": "code",
      "metadata": {
        "id": "MmV6X3KETgQz"
      },
      "source": [
        "X1_train = X_train.astype(int) #int로 변환"
      ],
      "execution_count": 28,
      "outputs": []
    },
    {
      "cell_type": "code",
      "metadata": {
        "id": "FSl_jOKnV3S0"
      },
      "source": [
        "X1_test = X_test.astype(int)"
      ],
      "execution_count": 29,
      "outputs": []
    },
    {
      "cell_type": "code",
      "metadata": {
        "id": "JBE28kJpb-xv"
      },
      "source": [
        "from sklearn.datasets import make_moons\n",
        "from sklearn.metrics import accuracy_score\n",
        "from sklearn.model_selection import train_test_split\n",
        "from sklearn.tree import DecisionTreeClassifier\n",
        "from sklearn.ensemble import RandomForestClassifier,AdaBoostClassifier,GradientBoostingClassifier"
      ],
      "execution_count": 30,
      "outputs": []
    },
    {
      "cell_type": "code",
      "metadata": {
        "colab": {
          "base_uri": "https://localhost:8080/"
        },
        "id": "Bi4_PHdRcBPJ",
        "outputId": "7fb39f33-5d23-4890-d25e-93dc21c8a6ab"
      },
      "source": [
        "clf = DecisionTreeClassifier()\n",
        "clf.fit(X1_train, y_train)\n",
        "y_pred = clf.predict(X1_test)\n",
        "accuracy_score(y_test, y_pred)"
      ],
      "execution_count": 45,
      "outputs": [
        {
          "output_type": "execute_result",
          "data": {
            "text/plain": [
              "0.10333333333333333"
            ]
          },
          "metadata": {
            "tags": []
          },
          "execution_count": 45
        }
      ]
    },
    {
      "cell_type": "code",
      "metadata": {
        "colab": {
          "base_uri": "https://localhost:8080/"
        },
        "id": "aXlbu2BlcdX0",
        "outputId": "f6064796-f757-4373-e600-6dbb4d3f60d3"
      },
      "source": [
        "clf = RandomForestClassifier(n_estimators=10, max_features=\"auto\",random_state=11)\n",
        "clf.fit(X1_train, y_train)\n",
        "y_pred = clf.predict(X1_test)\n",
        "accuracy_score(y_test, y_pred)"
      ],
      "execution_count": 71,
      "outputs": [
        {
          "output_type": "execute_result",
          "data": {
            "text/plain": [
              "0.14166666666666666"
            ]
          },
          "metadata": {
            "tags": []
          },
          "execution_count": 71
        }
      ]
    },
    {
      "cell_type": "code",
      "metadata": {
        "colab": {
          "base_uri": "https://localhost:8080/"
        },
        "id": "dnv3jf4EchwL",
        "outputId": "cae65ad1-edc4-4062-ecae-56a00b0851db"
      },
      "source": [
        "clf = AdaBoostClassifier(n_estimators=100)\n",
        "clf.fit(X1_train, y_train)\n",
        "y_pred = clf.predict(X1_test)\n",
        "accuracy_score(y_test, y_pred)"
      ],
      "execution_count": 47,
      "outputs": [
        {
          "output_type": "execute_result",
          "data": {
            "text/plain": [
              "0.075"
            ]
          },
          "metadata": {
            "tags": []
          },
          "execution_count": 47
        }
      ]
    },
    {
      "cell_type": "code",
      "metadata": {
        "id": "7gvNqc4FopoU"
      },
      "source": [
        "#LIGHT, GRADIENT는 시간 부족으로 인해 생략했습니다"
      ],
      "execution_count": null,
      "outputs": []
    },
    {
      "cell_type": "code",
      "metadata": {
        "colab": {
          "base_uri": "https://localhost:8080/"
        },
        "id": "r5Dk9EWSqINu",
        "outputId": "86f917e3-030e-4a14-be35-7a407c9b2486"
      },
      "source": [
        "from sklearn.model_selection import GridSearchCV\n",
        "\n",
        "params = { 'n_estimators' : [100, 200],\n",
        "           'max_depth' : [10, 12],\n",
        "           'min_samples_leaf' : [6, 8],\n",
        "           'min_samples_split' : [8, 10]\n",
        "            }\n",
        "\n",
        "# RandomForestClassifier 객체 생성 후 GridSearchCV 수행\n",
        "rf_clf = RandomForestClassifier(random_state = 0, n_jobs = -1)\n",
        "grid_cv = GridSearchCV(rf_clf, param_grid = params, cv = 3, n_jobs = -1)\n",
        "grid_cv.fit(X1_train, y_train)\n",
        "\n",
        "print('최적 하이퍼 파라미터: ', grid_cv.best_params_)\n",
        "print('최고 예측 정확도: {:.4f}'.format(grid_cv.best_score_))"
      ],
      "execution_count": 65,
      "outputs": [
        {
          "output_type": "stream",
          "text": [
            "최적 하이퍼 파라미터:  {'max_depth': 12, 'min_samples_leaf': 8, 'min_samples_split': 8, 'n_estimators': 200}\n",
            "최고 예측 정확도: 0.1829\n"
          ],
          "name": "stdout"
        }
      ]
    },
    {
      "cell_type": "code",
      "metadata": {
        "colab": {
          "base_uri": "https://localhost:8080/"
        },
        "id": "3gYf3RoWqmo2",
        "outputId": "9b7a53b7-7b6c-42be-d90c-21135b44aec0"
      },
      "source": [
        "y_pred = grid_cv.predict(X1_test)\n",
        "accuracy_score(y_test, y_pred)"
      ],
      "execution_count": 66,
      "outputs": [
        {
          "output_type": "execute_result",
          "data": {
            "text/plain": [
              "0.19"
            ]
          },
          "metadata": {
            "tags": []
          },
          "execution_count": 66
        }
      ]
    }
  ]
}